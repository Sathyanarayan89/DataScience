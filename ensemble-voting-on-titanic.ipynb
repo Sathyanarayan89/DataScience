{
 "cells": [
  {
   "cell_type": "markdown",
   "id": "63f1ad08",
   "metadata": {
    "_cell_guid": "b1076dfc-b9ad-4769-8c92-a6c4dae69d19",
    "_uuid": "8f2839f25d086af736a60e9eeb907d3b93b6e0e5",
    "papermill": {
     "duration": 0.008008,
     "end_time": "2022-06-15T16:31:18.436213",
     "exception": false,
     "start_time": "2022-06-15T16:31:18.428205",
     "status": "completed"
    },
    "tags": []
   },
   "source": [
    "### Machine Learning Predictions on Titanic datasets\n",
    "In this notebook, we will use ensemble voting method ( Linear regression and Random Forest) to predict survived column on the titanic dataset"
   ]
  },
  {
   "cell_type": "markdown",
   "id": "f90cc6d5",
   "metadata": {
    "papermill": {
     "duration": 0.003982,
     "end_time": "2022-06-15T16:31:18.444500",
     "exception": false,
     "start_time": "2022-06-15T16:31:18.440518",
     "status": "completed"
    },
    "tags": []
   },
   "source": [
    "### Import relevant libraries"
   ]
  },
  {
   "cell_type": "code",
   "execution_count": 1,
   "id": "d57e3d47",
   "metadata": {
    "execution": {
     "iopub.execute_input": "2022-06-15T16:31:18.455598Z",
     "iopub.status.busy": "2022-06-15T16:31:18.454977Z",
     "iopub.status.idle": "2022-06-15T16:31:20.266792Z",
     "shell.execute_reply": "2022-06-15T16:31:20.265681Z"
    },
    "papermill": {
     "duration": 1.820719,
     "end_time": "2022-06-15T16:31:20.269531",
     "exception": false,
     "start_time": "2022-06-15T16:31:18.448812",
     "status": "completed"
    },
    "tags": []
   },
   "outputs": [],
   "source": [
    "import re\n",
    "import pandas as pd\n",
    "import numpy as np\n",
    "from sklearn.model_selection import train_test_split\n",
    "from sklearn import preprocessing\n",
    "from sklearn.ensemble import VotingClassifier\n",
    "from sklearn.linear_model import LogisticRegression\n",
    "from sklearn.ensemble import RandomForestClassifier"
   ]
  },
  {
   "cell_type": "markdown",
   "id": "d191b7cc",
   "metadata": {
    "papermill": {
     "duration": 0.003633,
     "end_time": "2022-06-15T16:31:20.277242",
     "exception": false,
     "start_time": "2022-06-15T16:31:20.273609",
     "status": "completed"
    },
    "tags": []
   },
   "source": [
    "### Define a function to clean the data"
   ]
  },
  {
   "cell_type": "code",
   "execution_count": 2,
   "id": "4b158d3d",
   "metadata": {
    "execution": {
     "iopub.execute_input": "2022-06-15T16:31:20.287303Z",
     "iopub.status.busy": "2022-06-15T16:31:20.286856Z",
     "iopub.status.idle": "2022-06-15T16:31:20.294086Z",
     "shell.execute_reply": "2022-06-15T16:31:20.292941Z"
    },
    "papermill": {
     "duration": 0.01494,
     "end_time": "2022-06-15T16:31:20.296141",
     "exception": false,
     "start_time": "2022-06-15T16:31:20.281201",
     "status": "completed"
    },
    "tags": []
   },
   "outputs": [],
   "source": [
    "def clean_data(df):\n",
    "    df['Embarked'].fillna(df['Embarked'].mode()[0], inplace=True); # take care of missing Embarked values\n",
    "    df['Age'] = df['Age'].fillna(df['Age'].mean()); # take care of missing Age values\n",
    "    df['Fare'] = df['Fare'].fillna(df['Fare'].min()); # take care of missing Fare values\n",
    "    df = df.drop(columns=['Cabin','Ticket','PassengerId'], axis=1); # drop unwanted columns that do not contribute to survivability\n",
    "    return df"
   ]
  },
  {
   "cell_type": "markdown",
   "id": "88857491",
   "metadata": {
    "papermill": {
     "duration": 0.003695,
     "end_time": "2022-06-15T16:31:20.303985",
     "exception": false,
     "start_time": "2022-06-15T16:31:20.300290",
     "status": "completed"
    },
    "tags": []
   },
   "source": [
    "### Define a function to encode non-numerical data"
   ]
  },
  {
   "cell_type": "code",
   "execution_count": 3,
   "id": "4e69a472",
   "metadata": {
    "execution": {
     "iopub.execute_input": "2022-06-15T16:31:20.314528Z",
     "iopub.status.busy": "2022-06-15T16:31:20.313936Z",
     "iopub.status.idle": "2022-06-15T16:31:20.321201Z",
     "shell.execute_reply": "2022-06-15T16:31:20.320050Z"
    },
    "papermill": {
     "duration": 0.014896,
     "end_time": "2022-06-15T16:31:20.323190",
     "exception": false,
     "start_time": "2022-06-15T16:31:20.308294",
     "status": "completed"
    },
    "tags": []
   },
   "outputs": [],
   "source": [
    "def encode_data(df):\n",
    "    # quantize the age column\n",
    "    df['Age'] = pd.cut(df['Age'],[0, 10, 20, 30, 40, 50, np.inf],labels=[1, 2, 3, 4, 5, 6]).astype(int);\n",
    "    # encode non-numerical values\n",
    "    df.replace({'Sex':{'male':0,'female':1}, 'Embarked':{'S':0,'C':1,'Q':2}}, inplace=True);\n",
    "    return df"
   ]
  },
  {
   "cell_type": "markdown",
   "id": "292d6048",
   "metadata": {
    "papermill": {
     "duration": 0.003976,
     "end_time": "2022-06-15T16:31:20.331085",
     "exception": false,
     "start_time": "2022-06-15T16:31:20.327109",
     "status": "completed"
    },
    "tags": []
   },
   "source": [
    "### Add new columns by engineering the available features"
   ]
  },
  {
   "cell_type": "code",
   "execution_count": 4,
   "id": "1d2c72d2",
   "metadata": {
    "execution": {
     "iopub.execute_input": "2022-06-15T16:31:20.341455Z",
     "iopub.status.busy": "2022-06-15T16:31:20.340740Z",
     "iopub.status.idle": "2022-06-15T16:31:20.348331Z",
     "shell.execute_reply": "2022-06-15T16:31:20.347506Z"
    },
    "papermill": {
     "duration": 0.015426,
     "end_time": "2022-06-15T16:31:20.350508",
     "exception": false,
     "start_time": "2022-06-15T16:31:20.335082",
     "status": "completed"
    },
    "tags": []
   },
   "outputs": [],
   "source": [
    "regex = \"([A-Za-z]+)\\.\"\n",
    "\n",
    "title_status = {'Master.':0,\n",
    " 'Mrs.':0,\n",
    " 'Mr.':0,\n",
    " 'Ms.':0,\n",
    " 'Col.':1,\n",
    " 'Mme.':0,\n",
    " 'Countess.':1,\n",
    " 'Mlle.':0,\n",
    " 'Don.':1,\n",
    " 'Lady.':0,\n",
    " 'Miss.':0,\n",
    " 'Dr.':1,\n",
    " 'Sir.':0,\n",
    " 'Capt.':1,\n",
    " 'Rev.':1,\n",
    " 'Major.':1,\n",
    " 'Jonkheer.':0,\n",
    "  'Dona.':1};\n",
    "\n",
    "def get_title(row):\n",
    "    match = re.search(regex, str(row))\n",
    "    title = match.group(0);\n",
    "    return title\n",
    "\n",
    "def feature_engineer(df):\n",
    "    df['FamilySize'] = df['SibSp'] + df['Parch']; # add new feature of family size\n",
    "    df['socialstatus'] = df.Name.apply(lambda x: get_title(x)); # add titles from name column\n",
    "    df.replace({'socialstatus':title_status}, inplace=True); # replace titles by an assumed social status\n",
    "    df = df.drop(columns=['Name'], axis=1); # once titles are extracted, drop the names\n",
    "    return df"
   ]
  },
  {
   "cell_type": "markdown",
   "id": "e5924769",
   "metadata": {
    "papermill": {
     "duration": 0.003887,
     "end_time": "2022-06-15T16:31:20.358430",
     "exception": false,
     "start_time": "2022-06-15T16:31:20.354543",
     "status": "completed"
    },
    "tags": []
   },
   "source": [
    "### Import data and apply the data processing"
   ]
  },
  {
   "cell_type": "code",
   "execution_count": 5,
   "id": "b74bf949",
   "metadata": {
    "execution": {
     "iopub.execute_input": "2022-06-15T16:31:20.368509Z",
     "iopub.status.busy": "2022-06-15T16:31:20.367808Z",
     "iopub.status.idle": "2022-06-15T16:31:20.447724Z",
     "shell.execute_reply": "2022-06-15T16:31:20.446713Z"
    },
    "papermill": {
     "duration": 0.087578,
     "end_time": "2022-06-15T16:31:20.450070",
     "exception": false,
     "start_time": "2022-06-15T16:31:20.362492",
     "status": "completed"
    },
    "tags": []
   },
   "outputs": [],
   "source": [
    "# import the data as pandas dataframe\n",
    "test  = pd.read_csv('../input/titanic/test.csv');\n",
    "train = pd.read_csv('../input/titanic/train.csv');\n",
    "PID = test['PassengerId']; # save PID for competition submission\n",
    "\n",
    "# process the data\n",
    "\n",
    "train = clean_data(train);\n",
    "test  = clean_data(test);\n",
    "\n",
    "train = encode_data(train);\n",
    "test  = encode_data(test);\n",
    "\n",
    "train = feature_engineer(train);\n",
    "test  = feature_engineer(test);"
   ]
  },
  {
   "cell_type": "markdown",
   "id": "04aaa78f",
   "metadata": {
    "papermill": {
     "duration": 0.00365,
     "end_time": "2022-06-15T16:31:20.457655",
     "exception": false,
     "start_time": "2022-06-15T16:31:20.454005",
     "status": "completed"
    },
    "tags": []
   },
   "source": [
    "### Split the data into train and test subsets for model accuracy"
   ]
  },
  {
   "cell_type": "code",
   "execution_count": 6,
   "id": "46dfa49c",
   "metadata": {
    "execution": {
     "iopub.execute_input": "2022-06-15T16:31:20.467581Z",
     "iopub.status.busy": "2022-06-15T16:31:20.467033Z",
     "iopub.status.idle": "2022-06-15T16:31:20.474174Z",
     "shell.execute_reply": "2022-06-15T16:31:20.473361Z"
    },
    "papermill": {
     "duration": 0.014703,
     "end_time": "2022-06-15T16:31:20.476338",
     "exception": false,
     "start_time": "2022-06-15T16:31:20.461635",
     "status": "completed"
    },
    "tags": []
   },
   "outputs": [],
   "source": [
    "X = train.drop(columns = ['Survived'],axis=1);\n",
    "y = train['Survived'];\n",
    "X_train_m, X_test_m, y_train_m, y_test_m = train_test_split(X,y, test_size=0.25, random_state=10);\n"
   ]
  },
  {
   "cell_type": "markdown",
   "id": "836da25a",
   "metadata": {
    "papermill": {
     "duration": 0.003757,
     "end_time": "2022-06-15T16:31:20.484220",
     "exception": false,
     "start_time": "2022-06-15T16:31:20.480463",
     "status": "completed"
    },
    "tags": []
   },
   "source": [
    "## Ensemble Learning: Voting Classifier\n",
    "\n",
    "We could take several classification model to create an ensemble model. Here we will use LinearRegression and RandomForest model\n",
    "to create an Ensemble Voting classifier.\n",
    "\n",
    "Each different models within Ensemble (here in this case LinearRegression and RandomForest) predicts different outcome from the \n",
    "training. Ensemble have lower error and lesser overfitting as compared to individual models. Since each individual models have\n",
    "different bias (or personality), the biases also gets averaged out in the ensemble.\n",
    "\n",
    "One of the Ensemble methods is the Voting classifier that combines the prediction of different models. We will use soft voting \n",
    "which averages the probability of predictions from different models."
   ]
  },
  {
   "cell_type": "code",
   "execution_count": 7,
   "id": "eadaad08",
   "metadata": {
    "execution": {
     "iopub.execute_input": "2022-06-15T16:31:20.494566Z",
     "iopub.status.busy": "2022-06-15T16:31:20.494003Z",
     "iopub.status.idle": "2022-06-15T16:31:20.920485Z",
     "shell.execute_reply": "2022-06-15T16:31:20.919343Z"
    },
    "papermill": {
     "duration": 0.436119,
     "end_time": "2022-06-15T16:31:20.924394",
     "exception": false,
     "start_time": "2022-06-15T16:31:20.488275",
     "status": "completed"
    },
    "tags": []
   },
   "outputs": [
    {
     "name": "stdout",
     "output_type": "stream",
     "text": [
      "ACCURACY OF THE MODEL:  0.8565022421524664\n"
     ]
    }
   ],
   "source": [
    "LogisticRegression(class_weight='balanced')\n",
    "logistic_regression = LogisticRegression(max_iter=200);\n",
    "random_forest = RandomForestClassifier(n_estimators = 200);\n",
    "\n",
    "model = VotingClassifier (estimators=[('lr',logistic_regression), ('rf', random_forest)], voting='soft')\n",
    "model.fit(X_train_m, y_train_m);\n",
    "y_pred_m = model.predict(X_test_m);\n",
    "from sklearn import metrics \n",
    "print(\"ACCURACY OF THE MODEL: \", metrics.accuracy_score(y_test_m, y_pred_m));"
   ]
  },
  {
   "cell_type": "markdown",
   "id": "c7a17456",
   "metadata": {
    "papermill": {
     "duration": 0.004049,
     "end_time": "2022-06-15T16:31:20.934599",
     "exception": false,
     "start_time": "2022-06-15T16:31:20.930550",
     "status": "completed"
    },
    "tags": []
   },
   "source": [
    "### Submit the prediction to competition forum"
   ]
  },
  {
   "cell_type": "code",
   "execution_count": 8,
   "id": "e8205631",
   "metadata": {
    "execution": {
     "iopub.execute_input": "2022-06-15T16:31:20.945973Z",
     "iopub.status.busy": "2022-06-15T16:31:20.944799Z",
     "iopub.status.idle": "2022-06-15T16:31:20.997748Z",
     "shell.execute_reply": "2022-06-15T16:31:20.996440Z"
    },
    "papermill": {
     "duration": 0.061309,
     "end_time": "2022-06-15T16:31:21.000365",
     "exception": false,
     "start_time": "2022-06-15T16:31:20.939056",
     "status": "completed"
    },
    "tags": []
   },
   "outputs": [],
   "source": [
    "y_submission = model.predict(test);\n",
    "output = pd.DataFrame({'PassengerId': PID, 'Survived': y_submission})\n",
    "output.to_csv('submission.csv', index=False)"
   ]
  },
  {
   "cell_type": "markdown",
   "id": "65a3eab6",
   "metadata": {
    "papermill": {
     "duration": 0.003997,
     "end_time": "2022-06-15T16:31:21.008635",
     "exception": false,
     "start_time": "2022-06-15T16:31:21.004638",
     "status": "completed"
    },
    "tags": []
   },
   "source": []
  },
  {
   "cell_type": "markdown",
   "id": "d07e63da",
   "metadata": {
    "papermill": {
     "duration": 0.003935,
     "end_time": "2022-06-15T16:31:21.016974",
     "exception": false,
     "start_time": "2022-06-15T16:31:21.013039",
     "status": "completed"
    },
    "tags": []
   },
   "source": []
  }
 ],
 "metadata": {
  "kernelspec": {
   "display_name": "Python 3",
   "language": "python",
   "name": "python3"
  },
  "language_info": {
   "codemirror_mode": {
    "name": "ipython",
    "version": 3
   },
   "file_extension": ".py",
   "mimetype": "text/x-python",
   "name": "python",
   "nbconvert_exporter": "python",
   "pygments_lexer": "ipython3",
   "version": "3.7.12"
  },
  "papermill": {
   "default_parameters": {},
   "duration": 14.096396,
   "end_time": "2022-06-15T16:31:21.843842",
   "environment_variables": {},
   "exception": null,
   "input_path": "__notebook__.ipynb",
   "output_path": "__notebook__.ipynb",
   "parameters": {},
   "start_time": "2022-06-15T16:31:07.747446",
   "version": "2.3.4"
  }
 },
 "nbformat": 4,
 "nbformat_minor": 5
}
