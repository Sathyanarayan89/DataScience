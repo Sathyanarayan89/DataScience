{
 "cells": [
  {
   "cell_type": "markdown",
   "id": "9239a533",
   "metadata": {
    "_cell_guid": "b1076dfc-b9ad-4769-8c92-a6c4dae69d19",
    "_uuid": "8f2839f25d086af736a60e9eeb907d3b93b6e0e5",
    "papermill": {
     "duration": 0.0096,
     "end_time": "2022-06-08T14:51:23.109265",
     "exception": false,
     "start_time": "2022-06-08T14:51:23.099665",
     "status": "completed"
    },
    "tags": []
   },
   "source": [
    "## Machine Learning Predictions on Titanic datasets\n",
    "\n",
    "- In this notebook, we will use randomforst classification to predict survived column on the titanic\n",
    "  dataset\n"
   ]
  },
  {
   "cell_type": "code",
   "execution_count": 1,
   "id": "b2924357",
   "metadata": {
    "execution": {
     "iopub.execute_input": "2022-06-08T14:51:23.124165Z",
     "iopub.status.busy": "2022-06-08T14:51:23.123745Z",
     "iopub.status.idle": "2022-06-08T14:51:24.466118Z",
     "shell.execute_reply": "2022-06-08T14:51:24.465037Z"
    },
    "papermill": {
     "duration": 1.352813,
     "end_time": "2022-06-08T14:51:24.468792",
     "exception": false,
     "start_time": "2022-06-08T14:51:23.115979",
     "status": "completed"
    },
    "tags": []
   },
   "outputs": [],
   "source": [
    "import pandas as pd\n",
    "import numpy as np\n",
    "from sklearn.model_selection import train_test_split\n",
    "from sklearn import preprocessing\n"
   ]
  },
  {
   "cell_type": "markdown",
   "id": "1d8f9037",
   "metadata": {
    "papermill": {
     "duration": 0.005755,
     "end_time": "2022-06-08T14:51:24.480763",
     "exception": false,
     "start_time": "2022-06-08T14:51:24.475008",
     "status": "completed"
    },
    "tags": []
   },
   "source": []
  },
  {
   "cell_type": "markdown",
   "id": "b0896482",
   "metadata": {
    "papermill": {
     "duration": 0.005663,
     "end_time": "2022-06-08T14:51:24.492429",
     "exception": false,
     "start_time": "2022-06-08T14:51:24.486766",
     "status": "completed"
    },
    "tags": []
   },
   "source": [
    "### Data import and preliminary inspection"
   ]
  },
  {
   "cell_type": "code",
   "execution_count": 2,
   "id": "a06a4bcb",
   "metadata": {
    "execution": {
     "iopub.execute_input": "2022-06-08T14:51:24.506735Z",
     "iopub.status.busy": "2022-06-08T14:51:24.506084Z",
     "iopub.status.idle": "2022-06-08T14:51:24.564778Z",
     "shell.execute_reply": "2022-06-08T14:51:24.563625Z"
    },
    "papermill": {
     "duration": 0.069349,
     "end_time": "2022-06-08T14:51:24.567718",
     "exception": false,
     "start_time": "2022-06-08T14:51:24.498369",
     "status": "completed"
    },
    "tags": []
   },
   "outputs": [
    {
     "name": "stdout",
     "output_type": "stream",
     "text": [
      "<class 'pandas.core.frame.DataFrame'>\n",
      "RangeIndex: 891 entries, 0 to 890\n",
      "Data columns (total 12 columns):\n",
      " #   Column       Non-Null Count  Dtype  \n",
      "---  ------       --------------  -----  \n",
      " 0   PassengerId  891 non-null    int64  \n",
      " 1   Survived     891 non-null    int64  \n",
      " 2   Pclass       891 non-null    int64  \n",
      " 3   Name         891 non-null    object \n",
      " 4   Sex          891 non-null    object \n",
      " 5   Age          714 non-null    float64\n",
      " 6   SibSp        891 non-null    int64  \n",
      " 7   Parch        891 non-null    int64  \n",
      " 8   Ticket       891 non-null    object \n",
      " 9   Fare         891 non-null    float64\n",
      " 10  Cabin        204 non-null    object \n",
      " 11  Embarked     889 non-null    object \n",
      "dtypes: float64(2), int64(5), object(5)\n",
      "memory usage: 83.7+ KB\n"
     ]
    }
   ],
   "source": [
    "# import the data as pandas dataframe\n",
    "test_data  = pd.read_csv('../input/titanic/test.csv');\n",
    "train_data = pd.read_csv('../input/titanic/train.csv');\n",
    "train_data.info();"
   ]
  },
  {
   "cell_type": "code",
   "execution_count": 3,
   "id": "6355c6d6",
   "metadata": {
    "execution": {
     "iopub.execute_input": "2022-06-08T14:51:24.583023Z",
     "iopub.status.busy": "2022-06-08T14:51:24.582610Z",
     "iopub.status.idle": "2022-06-08T14:51:24.597526Z",
     "shell.execute_reply": "2022-06-08T14:51:24.596274Z"
    },
    "papermill": {
     "duration": 0.025627,
     "end_time": "2022-06-08T14:51:24.600234",
     "exception": false,
     "start_time": "2022-06-08T14:51:24.574607",
     "status": "completed"
    },
    "tags": []
   },
   "outputs": [
    {
     "name": "stdout",
     "output_type": "stream",
     "text": [
      "<class 'pandas.core.frame.DataFrame'>\n",
      "RangeIndex: 418 entries, 0 to 417\n",
      "Data columns (total 11 columns):\n",
      " #   Column       Non-Null Count  Dtype  \n",
      "---  ------       --------------  -----  \n",
      " 0   PassengerId  418 non-null    int64  \n",
      " 1   Pclass       418 non-null    int64  \n",
      " 2   Name         418 non-null    object \n",
      " 3   Sex          418 non-null    object \n",
      " 4   Age          332 non-null    float64\n",
      " 5   SibSp        418 non-null    int64  \n",
      " 6   Parch        418 non-null    int64  \n",
      " 7   Ticket       418 non-null    object \n",
      " 8   Fare         417 non-null    float64\n",
      " 9   Cabin        91 non-null     object \n",
      " 10  Embarked     418 non-null    object \n",
      "dtypes: float64(2), int64(4), object(5)\n",
      "memory usage: 36.0+ KB\n"
     ]
    }
   ],
   "source": [
    "test_data.info()\n",
    "PID = test_data['PassengerId'];"
   ]
  },
  {
   "cell_type": "markdown",
   "id": "6e545a9c",
   "metadata": {
    "papermill": {
     "duration": 0.005832,
     "end_time": "2022-06-08T14:51:24.612490",
     "exception": false,
     "start_time": "2022-06-08T14:51:24.606658",
     "status": "completed"
    },
    "tags": []
   },
   "source": [
    "What we find is some data are missing in Age, Cabin and Embarked columns. Also the titles of names contain some useful social status kind of information. \n",
    "So first we will replace missing values by their mean or mode values.\n",
    "\n",
    "### filling missing data"
   ]
  },
  {
   "cell_type": "code",
   "execution_count": 4,
   "id": "12d16013",
   "metadata": {
    "execution": {
     "iopub.execute_input": "2022-06-08T14:51:24.626969Z",
     "iopub.status.busy": "2022-06-08T14:51:24.626265Z",
     "iopub.status.idle": "2022-06-08T14:51:24.643113Z",
     "shell.execute_reply": "2022-06-08T14:51:24.642333Z"
    },
    "papermill": {
     "duration": 0.026525,
     "end_time": "2022-06-08T14:51:24.645181",
     "exception": false,
     "start_time": "2022-06-08T14:51:24.618656",
     "status": "completed"
    },
    "tags": []
   },
   "outputs": [
    {
     "name": "stdout",
     "output_type": "stream",
     "text": [
      "<class 'pandas.core.frame.DataFrame'>\n",
      "RangeIndex: 891 entries, 0 to 890\n",
      "Data columns (total 12 columns):\n",
      " #   Column       Non-Null Count  Dtype  \n",
      "---  ------       --------------  -----  \n",
      " 0   PassengerId  891 non-null    int64  \n",
      " 1   Survived     891 non-null    int64  \n",
      " 2   Pclass       891 non-null    int64  \n",
      " 3   Name         891 non-null    object \n",
      " 4   Sex          891 non-null    object \n",
      " 5   Age          891 non-null    float64\n",
      " 6   SibSp        891 non-null    int64  \n",
      " 7   Parch        891 non-null    int64  \n",
      " 8   Ticket       891 non-null    object \n",
      " 9   Fare         891 non-null    float64\n",
      " 10  Cabin        204 non-null    object \n",
      " 11  Embarked     891 non-null    object \n",
      "dtypes: float64(2), int64(5), object(5)\n",
      "memory usage: 83.7+ KB\n"
     ]
    }
   ],
   "source": [
    "train_data['Embarked'].fillna(train_data['Embarked'].mode()[0], inplace=True);\n",
    "train_data['Age'] = train_data['Age'].fillna(train_data['Age'].mean());\n",
    "train_data.info();"
   ]
  },
  {
   "cell_type": "markdown",
   "id": "7113a36a",
   "metadata": {
    "papermill": {
     "duration": 0.005856,
     "end_time": "2022-06-08T14:51:24.657373",
     "exception": false,
     "start_time": "2022-06-08T14:51:24.651517",
     "status": "completed"
    },
    "tags": []
   },
   "source": [
    "### Removing useless columns that dont contribute towards survavibility"
   ]
  },
  {
   "cell_type": "code",
   "execution_count": 5,
   "id": "21d488fa",
   "metadata": {
    "execution": {
     "iopub.execute_input": "2022-06-08T14:51:24.672374Z",
     "iopub.status.busy": "2022-06-08T14:51:24.671786Z",
     "iopub.status.idle": "2022-06-08T14:51:24.687260Z",
     "shell.execute_reply": "2022-06-08T14:51:24.686255Z"
    },
    "papermill": {
     "duration": 0.026549,
     "end_time": "2022-06-08T14:51:24.689995",
     "exception": false,
     "start_time": "2022-06-08T14:51:24.663446",
     "status": "completed"
    },
    "tags": []
   },
   "outputs": [
    {
     "name": "stdout",
     "output_type": "stream",
     "text": [
      "<class 'pandas.core.frame.DataFrame'>\n",
      "RangeIndex: 891 entries, 0 to 890\n",
      "Data columns (total 9 columns):\n",
      " #   Column    Non-Null Count  Dtype  \n",
      "---  ------    --------------  -----  \n",
      " 0   Survived  891 non-null    int64  \n",
      " 1   Pclass    891 non-null    int64  \n",
      " 2   Name      891 non-null    object \n",
      " 3   Sex       891 non-null    object \n",
      " 4   Age       891 non-null    float64\n",
      " 5   SibSp     891 non-null    int64  \n",
      " 6   Parch     891 non-null    int64  \n",
      " 7   Fare      891 non-null    float64\n",
      " 8   Embarked  891 non-null    object \n",
      "dtypes: float64(2), int64(4), object(3)\n",
      "memory usage: 62.8+ KB\n"
     ]
    }
   ],
   "source": [
    "train_data = train_data.drop(columns=['Cabin','Ticket','PassengerId'], axis=1);\n",
    "train_data.info();"
   ]
  },
  {
   "cell_type": "markdown",
   "id": "c83d0518",
   "metadata": {
    "papermill": {
     "duration": 0.006623,
     "end_time": "2022-06-08T14:51:24.703286",
     "exception": false,
     "start_time": "2022-06-08T14:51:24.696663",
     "status": "completed"
    },
    "tags": []
   },
   "source": [
    "### Extract title from name column\n",
    "\n",
    "- I googled about unique titles and if they are professional (Dr., Capt. etc) or from nobility (Don.) I assume it to be class 1 (high social status)\n",
    "- If titles are Mr. Ms., I assume it to be class 0 (normal social status).\n",
    "- After I extract the social status column based on titles, I will remove the name column completely. "
   ]
  },
  {
   "cell_type": "code",
   "execution_count": 6,
   "id": "497d3fd3",
   "metadata": {
    "execution": {
     "iopub.execute_input": "2022-06-08T14:51:24.719766Z",
     "iopub.status.busy": "2022-06-08T14:51:24.719087Z",
     "iopub.status.idle": "2022-06-08T14:51:24.747592Z",
     "shell.execute_reply": "2022-06-08T14:51:24.746472Z"
    },
    "papermill": {
     "duration": 0.039684,
     "end_time": "2022-06-08T14:51:24.749744",
     "exception": false,
     "start_time": "2022-06-08T14:51:24.710060",
     "status": "completed"
    },
    "tags": []
   },
   "outputs": [
    {
     "name": "stdout",
     "output_type": "stream",
     "text": [
      "<class 'pandas.core.frame.DataFrame'>\n",
      "RangeIndex: 891 entries, 0 to 890\n",
      "Data columns (total 10 columns):\n",
      " #   Column        Non-Null Count  Dtype  \n",
      "---  ------        --------------  -----  \n",
      " 0   Survived      891 non-null    int64  \n",
      " 1   Pclass        891 non-null    int64  \n",
      " 2   Name          891 non-null    object \n",
      " 3   Sex           891 non-null    object \n",
      " 4   Age           891 non-null    float64\n",
      " 5   SibSp         891 non-null    int64  \n",
      " 6   Parch         891 non-null    int64  \n",
      " 7   Fare          891 non-null    float64\n",
      " 8   Embarked      891 non-null    object \n",
      " 9   socialstatus  891 non-null    int64  \n",
      "dtypes: float64(2), int64(5), object(3)\n",
      "memory usage: 69.7+ KB\n"
     ]
    }
   ],
   "source": [
    "regex = \"([A-Za-z]+)\\.\"\n",
    "import re \n",
    "\n",
    "def get_title(row):\n",
    "    match = re.search(regex, str(row))\n",
    "    title = match.group(0);\n",
    "    return title\n",
    "\n",
    "social_status = {'Master.':0,\n",
    " 'Mrs.':0,\n",
    " 'Mr.':0,\n",
    " 'Ms.':0,\n",
    " 'Col.':1,\n",
    " 'Mme.':0,\n",
    " 'Countess.':1,\n",
    " 'Mlle.':0,\n",
    " 'Don.':1,\n",
    " 'Lady.':0,\n",
    " 'Miss.':0,\n",
    " 'Dr.':1,\n",
    " 'Sir.':0,\n",
    " 'Capt.':1,\n",
    " 'Rev.':1,\n",
    " 'Major.':1,\n",
    " 'Jonkheer.':0,\n",
    "  'Dona':1};\n",
    "\n",
    "train_data['socialstatus'] = train_data.Name.apply(lambda x: get_title(x));\n",
    "train_data.replace({'socialstatus':social_status}, inplace=True);\n",
    "train_data.info();"
   ]
  },
  {
   "cell_type": "markdown",
   "id": "1fbad8bb",
   "metadata": {
    "papermill": {
     "duration": 0.006977,
     "end_time": "2022-06-08T14:51:24.763472",
     "exception": false,
     "start_time": "2022-06-08T14:51:24.756495",
     "status": "completed"
    },
    "tags": []
   },
   "source": [
    "- Now we can remove name column and encode Sex and embarked columns with numeric values"
   ]
  },
  {
   "cell_type": "code",
   "execution_count": 7,
   "id": "5518635a",
   "metadata": {
    "execution": {
     "iopub.execute_input": "2022-06-08T14:51:24.779544Z",
     "iopub.status.busy": "2022-06-08T14:51:24.779141Z",
     "iopub.status.idle": "2022-06-08T14:51:24.798273Z",
     "shell.execute_reply": "2022-06-08T14:51:24.797207Z"
    },
    "papermill": {
     "duration": 0.032988,
     "end_time": "2022-06-08T14:51:24.802827",
     "exception": false,
     "start_time": "2022-06-08T14:51:24.769839",
     "status": "completed"
    },
    "tags": []
   },
   "outputs": [
    {
     "name": "stdout",
     "output_type": "stream",
     "text": [
      "<class 'pandas.core.frame.DataFrame'>\n",
      "RangeIndex: 891 entries, 0 to 890\n",
      "Data columns (total 9 columns):\n",
      " #   Column        Non-Null Count  Dtype  \n",
      "---  ------        --------------  -----  \n",
      " 0   Survived      891 non-null    int64  \n",
      " 1   Pclass        891 non-null    int64  \n",
      " 2   Sex           891 non-null    int64  \n",
      " 3   Age           891 non-null    float64\n",
      " 4   SibSp         891 non-null    int64  \n",
      " 5   Parch         891 non-null    int64  \n",
      " 6   Fare          891 non-null    float64\n",
      " 7   Embarked      891 non-null    int64  \n",
      " 8   socialstatus  891 non-null    int64  \n",
      "dtypes: float64(2), int64(7)\n",
      "memory usage: 62.8 KB\n"
     ]
    }
   ],
   "source": [
    "train_data.replace({'Sex':{'male':0,'female':1}, 'Embarked':{'S':0,'C':1,'Q':2}}, inplace=True);\n",
    "train_data = train_data.drop(columns=['Name'], axis=1);\n",
    "train_data.info();"
   ]
  },
  {
   "cell_type": "markdown",
   "id": "b49754bb",
   "metadata": {
    "papermill": {
     "duration": 0.007374,
     "end_time": "2022-06-08T14:51:24.816732",
     "exception": false,
     "start_time": "2022-06-08T14:51:24.809358",
     "status": "completed"
    },
    "tags": []
   },
   "source": [
    "### Random Forest\n",
    "In Random forest, we first randomly selects samples from the original datasets. Then decision trees are built on these feature subsets of randomly selected datasets. Many such decision tree constitute a random forest. Each tree in a random forest is different because decision trees are built on subset of features available. Each tree can make a different decision but on average whatever most tree predict is the solution.\n",
    "\n",
    "A single decision tree is highly sensitive to training data and hence has large variance. Since random forest is a collection of multiple decision trees, it is less sensitive to the training data and hence less variance."
   ]
  },
  {
   "cell_type": "markdown",
   "id": "8d62b342",
   "metadata": {
    "papermill": {
     "duration": 0.008737,
     "end_time": "2022-06-08T14:51:24.833865",
     "exception": false,
     "start_time": "2022-06-08T14:51:24.825128",
     "status": "completed"
    },
    "tags": []
   },
   "source": [
    "### Model Accuracy\n",
    "\n",
    "- To test model accuracy, we will split the training data into subset of train and test "
   ]
  },
  {
   "cell_type": "code",
   "execution_count": 8,
   "id": "ffc92c2c",
   "metadata": {
    "execution": {
     "iopub.execute_input": "2022-06-08T14:51:24.849552Z",
     "iopub.status.busy": "2022-06-08T14:51:24.849159Z",
     "iopub.status.idle": "2022-06-08T14:51:24.865900Z",
     "shell.execute_reply": "2022-06-08T14:51:24.864380Z"
    },
    "papermill": {
     "duration": 0.026643,
     "end_time": "2022-06-08T14:51:24.868018",
     "exception": false,
     "start_time": "2022-06-08T14:51:24.841375",
     "status": "completed"
    },
    "tags": []
   },
   "outputs": [
    {
     "data": {
      "text/plain": [
       "57     0\n",
       "717    1\n",
       "431    1\n",
       "633    0\n",
       "163    0\n",
       "Name: Survived, dtype: int64"
      ]
     },
     "execution_count": 8,
     "metadata": {},
     "output_type": "execute_result"
    }
   ],
   "source": [
    "X = train_data.drop(columns = ['Survived'],axis=1);\n",
    "y = train_data['Survived'];\n",
    "X_train_m, X_test_m, y_train_m, y_test_m = train_test_split(X,y, test_size=0.2, random_state=10);\n",
    "y_train_m.head()"
   ]
  },
  {
   "cell_type": "code",
   "execution_count": 9,
   "id": "d76d4ca9",
   "metadata": {
    "execution": {
     "iopub.execute_input": "2022-06-08T14:51:24.891661Z",
     "iopub.status.busy": "2022-06-08T14:51:24.890598Z",
     "iopub.status.idle": "2022-06-08T14:51:25.414765Z",
     "shell.execute_reply": "2022-06-08T14:51:25.413325Z"
    },
    "papermill": {
     "duration": 0.541915,
     "end_time": "2022-06-08T14:51:25.417921",
     "exception": false,
     "start_time": "2022-06-08T14:51:24.876006",
     "status": "completed"
    },
    "tags": []
   },
   "outputs": [
    {
     "name": "stdout",
     "output_type": "stream",
     "text": [
      "ACCURACY OF THE MODEL:  0.8324022346368715\n"
     ]
    }
   ],
   "source": [
    "from sklearn.ensemble import RandomForestClassifier\n",
    "from sklearn.model_selection import cross_val_score\n",
    "model = RandomForestClassifier(n_estimators = 100);\n",
    "model.fit(X_train_m, y_train_m);\n",
    "y_pred_m = model.predict(X_test_m);\n",
    "from sklearn import metrics \n",
    "print(\"ACCURACY OF THE MODEL: \", metrics.accuracy_score(y_test_m, y_pred_m));"
   ]
  },
  {
   "cell_type": "markdown",
   "id": "4b901fdb",
   "metadata": {
    "execution": {
     "iopub.execute_input": "2022-06-08T14:15:37.082071Z",
     "iopub.status.busy": "2022-06-08T14:15:37.080974Z",
     "iopub.status.idle": "2022-06-08T14:15:37.271405Z",
     "shell.execute_reply": "2022-06-08T14:15:37.270328Z",
     "shell.execute_reply.started": "2022-06-08T14:15:37.081982Z"
    },
    "papermill": {
     "duration": 0.007645,
     "end_time": "2022-06-08T14:51:25.436924",
     "exception": false,
     "start_time": "2022-06-08T14:51:25.429279",
     "status": "completed"
    },
    "tags": []
   },
   "source": [
    "### Preparing test data for actual competition submission"
   ]
  },
  {
   "cell_type": "code",
   "execution_count": 10,
   "id": "2aaf78b0",
   "metadata": {
    "execution": {
     "iopub.execute_input": "2022-06-08T14:51:25.454146Z",
     "iopub.status.busy": "2022-06-08T14:51:25.453319Z",
     "iopub.status.idle": "2022-06-08T14:51:25.489249Z",
     "shell.execute_reply": "2022-06-08T14:51:25.488210Z"
    },
    "papermill": {
     "duration": 0.047159,
     "end_time": "2022-06-08T14:51:25.491785",
     "exception": false,
     "start_time": "2022-06-08T14:51:25.444626",
     "status": "completed"
    },
    "tags": []
   },
   "outputs": [
    {
     "name": "stdout",
     "output_type": "stream",
     "text": [
      "<class 'pandas.core.frame.DataFrame'>\n",
      "RangeIndex: 418 entries, 0 to 417\n",
      "Data columns (total 8 columns):\n",
      " #   Column        Non-Null Count  Dtype  \n",
      "---  ------        --------------  -----  \n",
      " 0   Pclass        418 non-null    int64  \n",
      " 1   Sex           418 non-null    int64  \n",
      " 2   Age           418 non-null    float64\n",
      " 3   SibSp         418 non-null    int64  \n",
      " 4   Parch         418 non-null    int64  \n",
      " 5   Fare          418 non-null    float64\n",
      " 6   Embarked      418 non-null    int64  \n",
      " 7   socialstatus  418 non-null    object \n",
      "dtypes: float64(2), int64(5), object(1)\n",
      "memory usage: 26.2+ KB\n"
     ]
    },
    {
     "name": "stderr",
     "output_type": "stream",
     "text": [
      "/opt/conda/lib/python3.7/site-packages/ipykernel_launcher.py:6: SettingWithCopyWarning: \n",
      "A value is trying to be set on a copy of a slice from a DataFrame\n",
      "\n",
      "See the caveats in the documentation: https://pandas.pydata.org/pandas-docs/stable/user_guide/indexing.html#returning-a-view-versus-a-copy\n",
      "  \n"
     ]
    }
   ],
   "source": [
    "\n",
    "test_data['Age'] = test_data['Age'].fillna(train_data['Age'].mean());\n",
    "test_data        = test_data.drop(columns=['Cabin','Ticket','PassengerId'], axis=1);\n",
    "test_data['Fare'] = test_data['Fare'].fillna(test_data['Fare'].mean());\n",
    "test_data['socialstatus'] = test_data.Name.apply(lambda x: get_title(x));\n",
    "test_data.replace({'socialstatus':social_status}, inplace=True);\n",
    "test_data['socialstatus'][414]=1;\n",
    "test_data.replace({'Sex':{'male':0,'female':1}, 'Embarked':{'S':0,'C':1,'Q':2}}, inplace=True);\n",
    "test_data = test_data.drop(columns=['Name'], axis=1);\n",
    "test_data.info();\n"
   ]
  },
  {
   "cell_type": "markdown",
   "id": "bb9842b6",
   "metadata": {
    "papermill": {
     "duration": 0.00723,
     "end_time": "2022-06-08T14:51:25.506841",
     "exception": false,
     "start_time": "2022-06-08T14:51:25.499611",
     "status": "completed"
    },
    "tags": []
   },
   "source": [
    "### Lets run it on actual test result and save it as csv"
   ]
  },
  {
   "cell_type": "code",
   "execution_count": 11,
   "id": "b20158a3",
   "metadata": {
    "execution": {
     "iopub.execute_input": "2022-06-08T14:51:25.524366Z",
     "iopub.status.busy": "2022-06-08T14:51:25.523847Z",
     "iopub.status.idle": "2022-06-08T14:51:25.564268Z",
     "shell.execute_reply": "2022-06-08T14:51:25.563319Z"
    },
    "papermill": {
     "duration": 0.052641,
     "end_time": "2022-06-08T14:51:25.566909",
     "exception": false,
     "start_time": "2022-06-08T14:51:25.514268",
     "status": "completed"
    },
    "tags": []
   },
   "outputs": [],
   "source": [
    "y_submission = model.predict(test_data);\n",
    "output = pd.DataFrame({'PassengerId': PID, 'Survived': y_submission})\n",
    "output.to_csv('submission8.csv', index=False)"
   ]
  }
 ],
 "metadata": {
  "kernelspec": {
   "display_name": "Python 3",
   "language": "python",
   "name": "python3"
  },
  "language_info": {
   "codemirror_mode": {
    "name": "ipython",
    "version": 3
   },
   "file_extension": ".py",
   "mimetype": "text/x-python",
   "name": "python",
   "nbconvert_exporter": "python",
   "pygments_lexer": "ipython3",
   "version": "3.7.12"
  },
  "papermill": {
   "default_parameters": {},
   "duration": 14.281134,
   "end_time": "2022-06-08T14:51:26.401886",
   "environment_variables": {},
   "exception": null,
   "input_path": "__notebook__.ipynb",
   "output_path": "__notebook__.ipynb",
   "parameters": {},
   "start_time": "2022-06-08T14:51:12.120752",
   "version": "2.3.4"
  }
 },
 "nbformat": 4,
 "nbformat_minor": 5
}
