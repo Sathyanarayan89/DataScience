{
 "cells": [
  {
   "cell_type": "markdown",
   "id": "b348dca1",
   "metadata": {},
   "source": [
    "# Data Science coding exercises\n",
    "## Sathyanarayan Rao\n"
   ]
  },
  {
   "cell_type": "markdown",
   "id": "1ff8c554",
   "metadata": {},
   "source": [
    "### Q1. Given two arrays, write a python code to compute the intersection of the two arrays. "
   ]
  },
  {
   "cell_type": "code",
   "execution_count": 1,
   "id": "ed03c32c",
   "metadata": {},
   "outputs": [],
   "source": [
    "import numpy as np\n",
    "X = [1,5,9,0]; Y = [3,0,2,9];\n",
    "Z = np.intersect1d(X,Y);"
   ]
  },
  {
   "cell_type": "code",
   "execution_count": 2,
   "id": "f57aef99",
   "metadata": {},
   "outputs": [
    {
     "data": {
      "text/plain": [
       "array([0, 9])"
      ]
     },
     "execution_count": 2,
     "metadata": {},
     "output_type": "execute_result"
    }
   ],
   "source": [
    "Z"
   ]
  },
  {
   "cell_type": "markdown",
   "id": "c8dcd32e",
   "metadata": {},
   "source": [
    "#### Suppose if list contains strings and non-numeric data also, numpy intersect works fine\n",
    "\n",
    "Here we will add strings in the list and demonstrate"
   ]
  },
  {
   "cell_type": "code",
   "execution_count": 3,
   "id": "a9b6038c",
   "metadata": {},
   "outputs": [],
   "source": [
    "X1 = [1,'a','b',4,6]; Y1 = [3,4,'a',9]\n",
    "Z1 = np.intersect1d(X1,Y1);"
   ]
  },
  {
   "cell_type": "code",
   "execution_count": 4,
   "id": "6c60a85b",
   "metadata": {},
   "outputs": [
    {
     "data": {
      "text/plain": [
       "array(['4', 'a'], dtype='<U11')"
      ]
     },
     "execution_count": 4,
     "metadata": {},
     "output_type": "execute_result"
    }
   ],
   "source": [
    "Z1"
   ]
  },
  {
   "cell_type": "markdown",
   "id": "4e6a6451",
   "metadata": {},
   "source": [
    "### Q2. Create a Matrix in numpy and invert it"
   ]
  },
  {
   "cell_type": "code",
   "execution_count": 5,
   "id": "a6f7d420",
   "metadata": {},
   "outputs": [
    {
     "data": {
      "text/plain": [
       "matrix([[1, 2, 2],\n",
       "        [1, 2, 7],\n",
       "        [3, 2, 1]])"
      ]
     },
     "execution_count": 5,
     "metadata": {},
     "output_type": "execute_result"
    }
   ],
   "source": [
    "matrix = np.matrix('1 2 2; 1 2 7; 3 2 1');\n",
    "matrix"
   ]
  },
  {
   "cell_type": "markdown",
   "id": "b2c7eff9",
   "metadata": {},
   "source": [
    "#### First check if matrix is singular\n",
    "\n",
    "A singular matrix is a square matrix if its determinant is 0.  \n"
   ]
  },
  {
   "cell_type": "code",
   "execution_count": 6,
   "id": "0a336219",
   "metadata": {},
   "outputs": [
    {
     "data": {
      "text/plain": [
       "20.000000000000007"
      ]
     },
     "execution_count": 6,
     "metadata": {},
     "output_type": "execute_result"
    }
   ],
   "source": [
    "np.linalg.det(matrix)"
   ]
  },
  {
   "cell_type": "code",
   "execution_count": 7,
   "id": "c4298279",
   "metadata": {},
   "outputs": [
    {
     "data": {
      "text/plain": [
       "matrix([[-0.6 ,  0.1 ,  0.5 ],\n",
       "        [ 1.  , -0.25, -0.25],\n",
       "        [-0.2 ,  0.2 , -0.  ]])"
      ]
     },
     "execution_count": 7,
     "metadata": {},
     "output_type": "execute_result"
    }
   ],
   "source": [
    "inverted_matrix = np.linalg.inv(matrix)\n",
    "inverted_matrix"
   ]
  },
  {
   "cell_type": "code",
   "execution_count": 8,
   "id": "ba35f4ed",
   "metadata": {},
   "outputs": [
    {
     "data": {
      "text/plain": [
       "matrix([[1, 2, 2],\n",
       "        [1, 2, 2],\n",
       "        [3, 2, 1]])"
      ]
     },
     "execution_count": 8,
     "metadata": {},
     "output_type": "execute_result"
    }
   ],
   "source": [
    "matrix2 = np.matrix('1 2 2;1 2 2;3 2 1');\n",
    "matrix2"
   ]
  },
  {
   "cell_type": "code",
   "execution_count": 9,
   "id": "cf5c0599",
   "metadata": {},
   "outputs": [
    {
     "data": {
      "text/plain": [
       "0.0"
      ]
     },
     "execution_count": 9,
     "metadata": {},
     "output_type": "execute_result"
    }
   ],
   "source": [
    "np.linalg.det(matrix2)"
   ]
  },
  {
   "cell_type": "markdown",
   "id": "4f972f8a",
   "metadata": {},
   "source": [
    "if determinant is zero, inversion in numpy should give us singular matrix warning."
   ]
  },
  {
   "cell_type": "code",
   "execution_count": 10,
   "id": "2ce21f3f",
   "metadata": {},
   "outputs": [
    {
     "ename": "LinAlgError",
     "evalue": "Singular matrix",
     "output_type": "error",
     "traceback": [
      "\u001b[1;31m---------------------------------------------------------------------------\u001b[0m",
      "\u001b[1;31mLinAlgError\u001b[0m                               Traceback (most recent call last)",
      "\u001b[1;32m~\\AppData\\Local\\Temp/ipykernel_10088/873887690.py\u001b[0m in \u001b[0;36m<module>\u001b[1;34m\u001b[0m\n\u001b[1;32m----> 1\u001b[1;33m \u001b[0mnp\u001b[0m\u001b[1;33m.\u001b[0m\u001b[0mlinalg\u001b[0m\u001b[1;33m.\u001b[0m\u001b[0minv\u001b[0m\u001b[1;33m(\u001b[0m\u001b[0mmatrix2\u001b[0m\u001b[1;33m)\u001b[0m\u001b[1;33m\u001b[0m\u001b[1;33m\u001b[0m\u001b[0m\n\u001b[0m",
      "\u001b[1;32m<__array_function__ internals>\u001b[0m in \u001b[0;36minv\u001b[1;34m(*args, **kwargs)\u001b[0m\n",
      "\u001b[1;32m~\\anaconda3\\lib\\site-packages\\numpy\\linalg\\linalg.py\u001b[0m in \u001b[0;36minv\u001b[1;34m(a)\u001b[0m\n\u001b[0;32m    543\u001b[0m     \u001b[0msignature\u001b[0m \u001b[1;33m=\u001b[0m \u001b[1;34m'D->D'\u001b[0m \u001b[1;32mif\u001b[0m \u001b[0misComplexType\u001b[0m\u001b[1;33m(\u001b[0m\u001b[0mt\u001b[0m\u001b[1;33m)\u001b[0m \u001b[1;32melse\u001b[0m \u001b[1;34m'd->d'\u001b[0m\u001b[1;33m\u001b[0m\u001b[1;33m\u001b[0m\u001b[0m\n\u001b[0;32m    544\u001b[0m     \u001b[0mextobj\u001b[0m \u001b[1;33m=\u001b[0m \u001b[0mget_linalg_error_extobj\u001b[0m\u001b[1;33m(\u001b[0m\u001b[0m_raise_linalgerror_singular\u001b[0m\u001b[1;33m)\u001b[0m\u001b[1;33m\u001b[0m\u001b[1;33m\u001b[0m\u001b[0m\n\u001b[1;32m--> 545\u001b[1;33m     \u001b[0mainv\u001b[0m \u001b[1;33m=\u001b[0m \u001b[0m_umath_linalg\u001b[0m\u001b[1;33m.\u001b[0m\u001b[0minv\u001b[0m\u001b[1;33m(\u001b[0m\u001b[0ma\u001b[0m\u001b[1;33m,\u001b[0m \u001b[0msignature\u001b[0m\u001b[1;33m=\u001b[0m\u001b[0msignature\u001b[0m\u001b[1;33m,\u001b[0m \u001b[0mextobj\u001b[0m\u001b[1;33m=\u001b[0m\u001b[0mextobj\u001b[0m\u001b[1;33m)\u001b[0m\u001b[1;33m\u001b[0m\u001b[1;33m\u001b[0m\u001b[0m\n\u001b[0m\u001b[0;32m    546\u001b[0m     \u001b[1;32mreturn\u001b[0m \u001b[0mwrap\u001b[0m\u001b[1;33m(\u001b[0m\u001b[0mainv\u001b[0m\u001b[1;33m.\u001b[0m\u001b[0mastype\u001b[0m\u001b[1;33m(\u001b[0m\u001b[0mresult_t\u001b[0m\u001b[1;33m,\u001b[0m \u001b[0mcopy\u001b[0m\u001b[1;33m=\u001b[0m\u001b[1;32mFalse\u001b[0m\u001b[1;33m)\u001b[0m\u001b[1;33m)\u001b[0m\u001b[1;33m\u001b[0m\u001b[1;33m\u001b[0m\u001b[0m\n\u001b[0;32m    547\u001b[0m \u001b[1;33m\u001b[0m\u001b[0m\n",
      "\u001b[1;32m~\\anaconda3\\lib\\site-packages\\numpy\\linalg\\linalg.py\u001b[0m in \u001b[0;36m_raise_linalgerror_singular\u001b[1;34m(err, flag)\u001b[0m\n\u001b[0;32m     86\u001b[0m \u001b[1;33m\u001b[0m\u001b[0m\n\u001b[0;32m     87\u001b[0m \u001b[1;32mdef\u001b[0m \u001b[0m_raise_linalgerror_singular\u001b[0m\u001b[1;33m(\u001b[0m\u001b[0merr\u001b[0m\u001b[1;33m,\u001b[0m \u001b[0mflag\u001b[0m\u001b[1;33m)\u001b[0m\u001b[1;33m:\u001b[0m\u001b[1;33m\u001b[0m\u001b[1;33m\u001b[0m\u001b[0m\n\u001b[1;32m---> 88\u001b[1;33m     \u001b[1;32mraise\u001b[0m \u001b[0mLinAlgError\u001b[0m\u001b[1;33m(\u001b[0m\u001b[1;34m\"Singular matrix\"\u001b[0m\u001b[1;33m)\u001b[0m\u001b[1;33m\u001b[0m\u001b[1;33m\u001b[0m\u001b[0m\n\u001b[0m\u001b[0;32m     89\u001b[0m \u001b[1;33m\u001b[0m\u001b[0m\n\u001b[0;32m     90\u001b[0m \u001b[1;32mdef\u001b[0m \u001b[0m_raise_linalgerror_nonposdef\u001b[0m\u001b[1;33m(\u001b[0m\u001b[0merr\u001b[0m\u001b[1;33m,\u001b[0m \u001b[0mflag\u001b[0m\u001b[1;33m)\u001b[0m\u001b[1;33m:\u001b[0m\u001b[1;33m\u001b[0m\u001b[1;33m\u001b[0m\u001b[0m\n",
      "\u001b[1;31mLinAlgError\u001b[0m: Singular matrix"
     ]
    }
   ],
   "source": [
    "np.linalg.inv(matrix2)"
   ]
  },
  {
   "cell_type": "markdown",
   "id": "a974b773",
   "metadata": {},
   "source": [
    "### Q3. Illustrate that lists are mutable and tuples not. "
   ]
  },
  {
   "cell_type": "code",
   "execution_count": 11,
   "id": "215965e0",
   "metadata": {},
   "outputs": [],
   "source": [
    "# create a tuple\n",
    "A = ('sa','ri','ga','ma','pa','dha','ni');\n",
    "# create a list\n",
    "B = ['sa','ri','ga','ma','pa','dha','ni'];"
   ]
  },
  {
   "cell_type": "code",
   "execution_count": 12,
   "id": "6f5a1840",
   "metadata": {},
   "outputs": [
    {
     "data": {
      "text/plain": [
       "('sa', 'ri', 'ga', 'ma', 'pa', 'dha', 'ni')"
      ]
     },
     "execution_count": 12,
     "metadata": {},
     "output_type": "execute_result"
    }
   ],
   "source": [
    "A"
   ]
  },
  {
   "cell_type": "code",
   "execution_count": 13,
   "id": "23023a00",
   "metadata": {},
   "outputs": [
    {
     "data": {
      "text/plain": [
       "['sa', 'ri', 'ga', 'ma', 'pa', 'dha', 'ni']"
      ]
     },
     "execution_count": 13,
     "metadata": {},
     "output_type": "execute_result"
    }
   ],
   "source": [
    "B"
   ]
  },
  {
   "cell_type": "code",
   "execution_count": 14,
   "id": "ba6262f6",
   "metadata": {},
   "outputs": [
    {
     "ename": "TypeError",
     "evalue": "'tuple' object does not support item assignment",
     "output_type": "error",
     "traceback": [
      "\u001b[1;31m---------------------------------------------------------------------------\u001b[0m",
      "\u001b[1;31mTypeError\u001b[0m                                 Traceback (most recent call last)",
      "\u001b[1;32m~\\AppData\\Local\\Temp/ipykernel_10088/1022080447.py\u001b[0m in \u001b[0;36m<module>\u001b[1;34m\u001b[0m\n\u001b[0;32m      1\u001b[0m \u001b[1;31m# trying to overwrite a tuple which is not mutable\u001b[0m\u001b[1;33m\u001b[0m\u001b[1;33m\u001b[0m\u001b[0m\n\u001b[1;32m----> 2\u001b[1;33m \u001b[0mA\u001b[0m\u001b[1;33m[\u001b[0m\u001b[1;36m0\u001b[0m\u001b[1;33m]\u001b[0m \u001b[1;33m=\u001b[0m \u001b[1;34m'0'\u001b[0m\u001b[1;33m\u001b[0m\u001b[1;33m\u001b[0m\u001b[0m\n\u001b[0m",
      "\u001b[1;31mTypeError\u001b[0m: 'tuple' object does not support item assignment"
     ]
    }
   ],
   "source": [
    "# trying to overwrite a tuple which is not mutable\n",
    "A[0] = '0'"
   ]
  },
  {
   "cell_type": "code",
   "execution_count": 15,
   "id": "bcfe43bd",
   "metadata": {},
   "outputs": [],
   "source": [
    "# trying to overwrite a list which is mutable\n",
    "B[0]='0'"
   ]
  },
  {
   "cell_type": "code",
   "execution_count": 16,
   "id": "21f26247",
   "metadata": {},
   "outputs": [
    {
     "data": {
      "text/plain": [
       "['0', 'ri', 'ga', 'ma', 'pa', 'dha', 'ni']"
      ]
     },
     "execution_count": 16,
     "metadata": {},
     "output_type": "execute_result"
    }
   ],
   "source": [
    "B"
   ]
  },
  {
   "cell_type": "markdown",
   "id": "fbd17c57",
   "metadata": {},
   "source": [
    "### Q4. Find largest number along values in a dictionary"
   ]
  },
  {
   "cell_type": "code",
   "execution_count": 17,
   "id": "2a906606",
   "metadata": {},
   "outputs": [
    {
     "name": "stdout",
     "output_type": "stream",
     "text": [
      "33\n"
     ]
    }
   ],
   "source": [
    "# define a dictionary\n",
    "\n",
    "dictionary = {'a': 10, 'b': 20, 'c': 33,'d': 12, 'e': 17, 'f': 19}\n",
    "# create an empty list\n",
    "temp = [];\n",
    "for i in dictionary.values():\n",
    "    temp.append(i);\n",
    "print(max(temp))"
   ]
  },
  {
   "cell_type": "markdown",
   "id": "8a4d1e07",
   "metadata": {},
   "source": [
    "### Q5. Use lambda inline function to compute eucleadean distance between two points"
   ]
  },
  {
   "cell_type": "code",
   "execution_count": 18,
   "id": "e6606d5f",
   "metadata": {},
   "outputs": [],
   "source": [
    "eucleadean = lambda x1,y1,x2,y2: np.sqrt((x2-x1)**2+(y2-y1)**2)"
   ]
  },
  {
   "cell_type": "code",
   "execution_count": 19,
   "id": "5c46e078",
   "metadata": {},
   "outputs": [
    {
     "data": {
      "text/plain": [
       "6.324555320336759"
      ]
     },
     "execution_count": 19,
     "metadata": {},
     "output_type": "execute_result"
    }
   ],
   "source": [
    "eucleadean(0,4,6,2)"
   ]
  },
  {
   "cell_type": "markdown",
   "id": "4843c53b",
   "metadata": {},
   "source": [
    "### Q6. Illustrate the functionality of a enumerate function"
   ]
  },
  {
   "cell_type": "code",
   "execution_count": 20,
   "id": "efb0f7be",
   "metadata": {},
   "outputs": [
    {
     "name": "stdout",
     "output_type": "stream",
     "text": [
      "(0, 'sa')\n",
      "(1, 'ri')\n",
      "(2, 'ga')\n",
      "(3, 'ma')\n",
      "(4, 'pa')\n",
      "(5, 'dha')\n",
      "(6, 'ni')\n"
     ]
    }
   ],
   "source": [
    "# using enumerate object to print values of a list\n",
    "swaras = ['sa', 'ri', 'ga', 'ma', 'pa', 'dha', 'ni'];\n",
    "enum = enumerate(swaras);\n",
    "for swara in enum:\n",
    "    print(swara)\n"
   ]
  },
  {
   "cell_type": "code",
   "execution_count": 21,
   "id": "9a0745b7",
   "metadata": {},
   "outputs": [
    {
     "name": "stdout",
     "output_type": "stream",
     "text": [
      "0 sa\n",
      "1 ri\n",
      "2 ga\n",
      "3 ma\n",
      "4 pa\n",
      "5 dha\n",
      "6 ni\n"
     ]
    }
   ],
   "source": [
    "# getting rid of brackets\n",
    "swaras = ['sa', 'ri', 'ga', 'ma', 'pa', 'dha', 'ni'];\n",
    "enum = enumerate(swaras);\n",
    "for count,swara in enum:\n",
    "    print(count,swara)"
   ]
  },
  {
   "cell_type": "markdown",
   "id": "640ece7b",
   "metadata": {},
   "source": [
    "### Q7. print todays and yesterdays date using datetime module"
   ]
  },
  {
   "cell_type": "code",
   "execution_count": 22,
   "id": "a1bb5a8b",
   "metadata": {},
   "outputs": [
    {
     "name": "stdout",
     "output_type": "stream",
     "text": [
      "Today is: 20-05-2022\n",
      "Yesterday was: 19-05-2022\n"
     ]
    }
   ],
   "source": [
    "from datetime import datetime, timedelta\n",
    "today = datetime.now()\n",
    "print(\"Today is: \"+ today.strftime('%d-%m-%Y'))\n",
    "yesterday = today - timedelta(hours = 24)\n",
    "print(\"Yesterday was: \"+ yesterday.strftime('%d-%m-%Y'))\n"
   ]
  },
  {
   "cell_type": "code",
   "execution_count": 23,
   "id": "ca32edb2",
   "metadata": {},
   "outputs": [
    {
     "name": "stdout",
     "output_type": "stream",
     "text": [
      "0 10\n",
      "1 38\n",
      "2 73\n",
      "3 82\n"
     ]
    }
   ],
   "source": [
    "a_list = [10, 38, 73, 82]\n",
    "for i, j in enumerate(a_list):\n",
    "\tprint(i, j)"
   ]
  },
  {
   "cell_type": "markdown",
   "id": "d485934f",
   "metadata": {},
   "source": [
    "### Q8. create a numeric pandas series and extract every even entries"
   ]
  },
  {
   "cell_type": "code",
   "execution_count": 24,
   "id": "2d1de5ab",
   "metadata": {},
   "outputs": [
    {
     "data": {
      "text/plain": [
       "0      1\n",
       "1      8\n",
       "2      3\n",
       "3      2\n",
       "4      4\n",
       "5      5\n",
       "6      6\n",
       "7      2\n",
       "8      1\n",
       "9      5\n",
       "10    56\n",
       "11     7\n",
       "12     7\n",
       "13     7\n",
       "14     1\n",
       "15     3\n",
       "16     4\n",
       "dtype: int64"
      ]
     },
     "execution_count": 24,
     "metadata": {},
     "output_type": "execute_result"
    }
   ],
   "source": [
    "import pandas as pd\n",
    "series = pd.Series([1,8,3,2,4,5,6,2,1,5,56,7,7,7,1,3,4])\n",
    "series"
   ]
  },
  {
   "cell_type": "code",
   "execution_count": 25,
   "id": "92a1f18e",
   "metadata": {},
   "outputs": [
    {
     "data": {
      "text/plain": [
       "0      1\n",
       "2      3\n",
       "4      4\n",
       "6      6\n",
       "8      1\n",
       "10    56\n",
       "12     7\n",
       "14     1\n",
       "16     4\n",
       "dtype: int64"
      ]
     },
     "execution_count": 25,
     "metadata": {},
     "output_type": "execute_result"
    }
   ],
   "source": [
    "even_index = []\n",
    "for i in range(len(series)):\n",
    "    if(i%2==0):\n",
    "        even_index.append(i);\n",
    "\n",
    "even_series = series.take(even_index);\n",
    "even_series"
   ]
  },
  {
   "cell_type": "markdown",
   "id": "053d3969",
   "metadata": {},
   "source": [
    "### Q9. illustrate map function \n",
    "\n",
    "- map function is a in-built python function that iterates over a iterable and applies transformation to each iterable.\n",
    "- syntax: output = map(function, iterable);"
   ]
  },
  {
   "cell_type": "code",
   "execution_count": 26,
   "id": "55c061dd",
   "metadata": {},
   "outputs": [
    {
     "data": {
      "text/plain": [
       "[10, 20, 30, 40, 50]"
      ]
     },
     "execution_count": 26,
     "metadata": {},
     "output_type": "execute_result"
    }
   ],
   "source": [
    "def x10(num):\n",
    "    return num*10\n",
    "\n",
    "X = [1,2,3,4,5];\n",
    "Y = list(map(x10,X));\n",
    "Y"
   ]
  },
  {
   "cell_type": "code",
   "execution_count": 27,
   "id": "a9c5c012",
   "metadata": {},
   "outputs": [
    {
     "data": {
      "text/plain": [
       "[10, 20, 30, 40, 50]"
      ]
     },
     "execution_count": 27,
     "metadata": {},
     "output_type": "execute_result"
    }
   ],
   "source": [
    "Y1 = list(map(lambda x:x*10,X));\n",
    "Y1"
   ]
  },
  {
   "cell_type": "markdown",
   "id": "b06eaf6a",
   "metadata": {},
   "source": [
    "### Q10. change string list to uppercase using map function"
   ]
  },
  {
   "cell_type": "code",
   "execution_count": 29,
   "id": "5ea69c23",
   "metadata": {},
   "outputs": [],
   "source": [
    "string_list = ['ball','cat','a','b','c'];"
   ]
  },
  {
   "cell_type": "code",
   "execution_count": 38,
   "id": "3225a5f0",
   "metadata": {},
   "outputs": [
    {
     "data": {
      "text/plain": [
       "['BALL', 'CAT', 'A', 'B', 'C']"
      ]
     },
     "execution_count": 38,
     "metadata": {},
     "output_type": "execute_result"
    }
   ],
   "source": [
    "capitalized = list(map(lambda x:x.upper(),string_list));\n",
    "capitalized"
   ]
  }
 ],
 "metadata": {
  "kernelspec": {
   "display_name": "Python 3 (ipykernel)",
   "language": "python",
   "name": "python3"
  },
  "language_info": {
   "codemirror_mode": {
    "name": "ipython",
    "version": 3
   },
   "file_extension": ".py",
   "mimetype": "text/x-python",
   "name": "python",
   "nbconvert_exporter": "python",
   "pygments_lexer": "ipython3",
   "version": "3.9.7"
  }
 },
 "nbformat": 4,
 "nbformat_minor": 5
}
