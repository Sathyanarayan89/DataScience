{
 "cells": [
  {
   "cell_type": "markdown",
   "id": "9f864ab3",
   "metadata": {
    "_cell_guid": "b1076dfc-b9ad-4769-8c92-a6c4dae69d19",
    "_uuid": "8f2839f25d086af736a60e9eeb907d3b93b6e0e5",
    "papermill": {
     "duration": 0.011443,
     "end_time": "2022-06-19T15:47:42.860076",
     "exception": false,
     "start_time": "2022-06-19T15:47:42.848633",
     "status": "completed"
    },
    "tags": []
   },
   "source": [
    "<div style=\"color:black;\n",
    "           display:fill;\n",
    "           border-radius:1px;\n",
    "           background-color:#FFA500;\n",
    "           align:center;\">\n",
    "\n",
    "<p style=\"padding: 1px;\n",
    "              color:white;\">\n",
    "<center>\n",
    "    \n",
    "# Factor Analysis to reduce feature dimensions"
   ]
  },
  {
   "cell_type": "markdown",
   "id": "884826fd",
   "metadata": {
    "papermill": {
     "duration": 0.006663,
     "end_time": "2022-06-19T15:47:42.874451",
     "exception": false,
     "start_time": "2022-06-19T15:47:42.867788",
     "status": "completed"
    },
    "tags": []
   },
   "source": [
    "### Theory\n",
    "\n",
    "Unnessecary features or redundency can result in low performance in ML classification algorithm and also cost more time in training the data.\n",
    "Depending on the type of features we have, we can use various techniques to reduce the dimensions of features:\n",
    "\n",
    "- Principle Component Analysis (PCA) for Numerical Features.\n",
    "- Multiple Correspondence Analysis (MCA) for Categorical Features.\n",
    "- Factor Analysis of Mixed Data (FAMD) for mixed data of categorical and numerical. \n",
    "\n",
    "FAMD is a combination of PCA and MCA methods. Our aim in this notebook is to select few components of FAMD as the new features \n",
    "that explains most of the variance and see how ML classification predicts survivability based on FAMD components. Since titanic\n",
    "dataset is made of categorical features (Sex, Embarked etc.) and Numerical (Age,Fare etc.), we can safely assume FAMD will do\n",
    "some good in feature reduction. \n"
   ]
  },
  {
   "cell_type": "markdown",
   "id": "943c08f1",
   "metadata": {
    "papermill": {
     "duration": 0.00633,
     "end_time": "2022-06-19T15:47:42.887630",
     "exception": false,
     "start_time": "2022-06-19T15:47:42.881300",
     "status": "completed"
    },
    "tags": []
   },
   "source": [
    "### Install prince package which contains MCA tool"
   ]
  },
  {
   "cell_type": "code",
   "execution_count": 1,
   "id": "2a2ac615",
   "metadata": {
    "execution": {
     "iopub.execute_input": "2022-06-19T15:47:42.903667Z",
     "iopub.status.busy": "2022-06-19T15:47:42.902939Z",
     "iopub.status.idle": "2022-06-19T15:47:56.412368Z",
     "shell.execute_reply": "2022-06-19T15:47:56.410964Z"
    },
    "papermill": {
     "duration": 13.520966,
     "end_time": "2022-06-19T15:47:56.415367",
     "exception": false,
     "start_time": "2022-06-19T15:47:42.894401",
     "status": "completed"
    },
    "tags": []
   },
   "outputs": [
    {
     "name": "stdout",
     "output_type": "stream",
     "text": [
      "Collecting prince\r\n",
      "  Downloading prince-0.7.1-py3-none-any.whl (21 kB)\r\n",
      "Requirement already satisfied: scipy>=1.3.0 in /opt/conda/lib/python3.7/site-packages (from prince) (1.7.3)\r\n",
      "Requirement already satisfied: scikit-learn>=0.22.1 in /opt/conda/lib/python3.7/site-packages (from prince) (1.0.2)\r\n",
      "Requirement already satisfied: pandas>=1.0.3 in /opt/conda/lib/python3.7/site-packages (from prince) (1.3.5)\r\n",
      "Requirement already satisfied: matplotlib>=3.0.2 in /opt/conda/lib/python3.7/site-packages (from prince) (3.5.2)\r\n",
      "Requirement already satisfied: numpy>=1.17.1 in /opt/conda/lib/python3.7/site-packages (from prince) (1.21.6)\r\n",
      "Requirement already satisfied: cycler>=0.10 in /opt/conda/lib/python3.7/site-packages (from matplotlib>=3.0.2->prince) (0.11.0)\r\n",
      "Requirement already satisfied: packaging>=20.0 in /opt/conda/lib/python3.7/site-packages (from matplotlib>=3.0.2->prince) (21.3)\r\n",
      "Requirement already satisfied: pyparsing>=2.2.1 in /opt/conda/lib/python3.7/site-packages (from matplotlib>=3.0.2->prince) (3.0.9)\r\n",
      "Requirement already satisfied: pillow>=6.2.0 in /opt/conda/lib/python3.7/site-packages (from matplotlib>=3.0.2->prince) (9.1.0)\r\n",
      "Requirement already satisfied: fonttools>=4.22.0 in /opt/conda/lib/python3.7/site-packages (from matplotlib>=3.0.2->prince) (4.33.3)\r\n",
      "Requirement already satisfied: python-dateutil>=2.7 in /opt/conda/lib/python3.7/site-packages (from matplotlib>=3.0.2->prince) (2.8.2)\r\n",
      "Requirement already satisfied: kiwisolver>=1.0.1 in /opt/conda/lib/python3.7/site-packages (from matplotlib>=3.0.2->prince) (1.4.2)\r\n",
      "Requirement already satisfied: pytz>=2017.3 in /opt/conda/lib/python3.7/site-packages (from pandas>=1.0.3->prince) (2022.1)\r\n",
      "Requirement already satisfied: threadpoolctl>=2.0.0 in /opt/conda/lib/python3.7/site-packages (from scikit-learn>=0.22.1->prince) (3.1.0)\r\n",
      "Requirement already satisfied: joblib>=0.11 in /opt/conda/lib/python3.7/site-packages (from scikit-learn>=0.22.1->prince) (1.1.0)\r\n",
      "Requirement already satisfied: typing-extensions in /opt/conda/lib/python3.7/site-packages (from kiwisolver>=1.0.1->matplotlib>=3.0.2->prince) (4.2.0)\r\n",
      "Requirement already satisfied: six>=1.5 in /opt/conda/lib/python3.7/site-packages (from python-dateutil>=2.7->matplotlib>=3.0.2->prince) (1.16.0)\r\n",
      "Installing collected packages: prince\r\n",
      "Successfully installed prince-0.7.1\r\n",
      "\u001b[33mWARNING: Running pip as the 'root' user can result in broken permissions and conflicting behaviour with the system package manager. It is recommended to use a virtual environment instead: https://pip.pypa.io/warnings/venv\u001b[0m\u001b[33m\r\n",
      "\u001b[0mNote: you may need to restart the kernel to use updated packages.\n"
     ]
    }
   ],
   "source": [
    "pip install --user prince\n"
   ]
  },
  {
   "cell_type": "markdown",
   "id": "a4f00811",
   "metadata": {
    "papermill": {
     "duration": 0.007342,
     "end_time": "2022-06-19T15:47:56.430785",
     "exception": false,
     "start_time": "2022-06-19T15:47:56.423443",
     "status": "completed"
    },
    "tags": []
   },
   "source": [
    "### Import relevant libraries"
   ]
  },
  {
   "cell_type": "code",
   "execution_count": 2,
   "id": "d5cfaa61",
   "metadata": {
    "execution": {
     "iopub.execute_input": "2022-06-19T15:47:56.451979Z",
     "iopub.status.busy": "2022-06-19T15:47:56.450608Z",
     "iopub.status.idle": "2022-06-19T15:47:57.923692Z",
     "shell.execute_reply": "2022-06-19T15:47:57.922456Z"
    },
    "papermill": {
     "duration": 1.485075,
     "end_time": "2022-06-19T15:47:57.926447",
     "exception": false,
     "start_time": "2022-06-19T15:47:56.441372",
     "status": "completed"
    },
    "tags": []
   },
   "outputs": [],
   "source": [
    "\n",
    "import pandas as pd\n",
    "import numpy as np\n",
    "import prince\n",
    "import seaborn as sns\n",
    "import matplotlib.pyplot as plt"
   ]
  },
  {
   "cell_type": "markdown",
   "id": "edbf5aa5",
   "metadata": {
    "papermill": {
     "duration": 0.007105,
     "end_time": "2022-06-19T15:47:57.941306",
     "exception": false,
     "start_time": "2022-06-19T15:47:57.934201",
     "status": "completed"
    },
    "tags": []
   },
   "source": [
    "### Data import and preprocessing for MCA\n"
   ]
  },
  {
   "cell_type": "code",
   "execution_count": 3,
   "id": "955c00bb",
   "metadata": {
    "execution": {
     "iopub.execute_input": "2022-06-19T15:47:57.958802Z",
     "iopub.status.busy": "2022-06-19T15:47:57.958296Z",
     "iopub.status.idle": "2022-06-19T15:47:57.971041Z",
     "shell.execute_reply": "2022-06-19T15:47:57.969617Z"
    },
    "papermill": {
     "duration": 0.024771,
     "end_time": "2022-06-19T15:47:57.973764",
     "exception": false,
     "start_time": "2022-06-19T15:47:57.948993",
     "status": "completed"
    },
    "tags": []
   },
   "outputs": [],
   "source": [
    "def clean_data(df):\n",
    "    df['Embarked'].fillna(df['Embarked'].mode()[0], inplace=True); # take care of missing Embarked values\n",
    "    df['Age'] = df['Age'].fillna(df['Age'].mean()); # take care of missing Age values\n",
    "    df['Fare'] = df['Fare'].fillna(df['Fare'].mean()); # take care of missing Fare values\n",
    "    df = df.drop(columns=['Cabin','Ticket','PassengerId'], axis=1); # drop unwanted columns that do not contribute to survivability\n",
    "    return df\n",
    "\n",
    "def feature_engineer(df):\n",
    "    df['FamilySize'] = df['SibSp'] + df['Parch']; # add new feature of family size\n",
    "    df = df.drop(columns=['Name'], axis=1); # once titles are extracted, drop the names\n",
    "    # add a new column indicating adult or not\n",
    "    adult = [];\n",
    "    for i in range(len(df['Age'])):\n",
    "        X = df['Age'].iloc[i];\n",
    "        if(X=='adult'):\n",
    "            adult.append(0);\n",
    "        else:\n",
    "            adult.append(1);\n",
    "    df['adult'] = adult;\n",
    "    return df\n",
    "\n",
    "def preprocess(df):\n",
    "    df = clean_data(df);\n",
    "    df = feature_engineer(df);\n",
    "    return df"
   ]
  },
  {
   "cell_type": "code",
   "execution_count": 4,
   "id": "eb085cb6",
   "metadata": {
    "execution": {
     "iopub.execute_input": "2022-06-19T15:47:57.991203Z",
     "iopub.status.busy": "2022-06-19T15:47:57.990643Z",
     "iopub.status.idle": "2022-06-19T15:47:58.089179Z",
     "shell.execute_reply": "2022-06-19T15:47:58.087922Z"
    },
    "papermill": {
     "duration": 0.110388,
     "end_time": "2022-06-19T15:47:58.091915",
     "exception": false,
     "start_time": "2022-06-19T15:47:57.981527",
     "status": "completed"
    },
    "tags": []
   },
   "outputs": [
    {
     "name": "stdout",
     "output_type": "stream",
     "text": [
      "<class 'pandas.core.frame.DataFrame'>\n",
      "RangeIndex: 891 entries, 0 to 890\n",
      "Data columns (total 10 columns):\n",
      " #   Column      Non-Null Count  Dtype  \n",
      "---  ------      --------------  -----  \n",
      " 0   adult       891 non-null    int64  \n",
      " 1   FamilySize  891 non-null    int64  \n",
      " 2   Embarked    891 non-null    object \n",
      " 3   Fare        891 non-null    float64\n",
      " 4   Parch       891 non-null    int64  \n",
      " 5   SibSp       891 non-null    int64  \n",
      " 6   Age         891 non-null    float64\n",
      " 7   Sex         891 non-null    object \n",
      " 8   Pclass      891 non-null    int64  \n",
      " 9   Survived    891 non-null    int64  \n",
      "dtypes: float64(2), int64(6), object(2)\n",
      "memory usage: 69.7+ KB\n"
     ]
    }
   ],
   "source": [
    "# import the data as pandas dataframe\n",
    "test  = pd.read_csv('../input/titanic/test.csv');\n",
    "train = pd.read_csv('../input/titanic/train.csv');\n",
    "PID   = test['PassengerId']; # save passenger ID for submission\n",
    "\n",
    "# process the data\n",
    "\n",
    "train = preprocess(train);\n",
    "test  = preprocess(test); # do the same processing as we did for train\n",
    "\n",
    "train = train.iloc[:, ::-1]; # I want to keep survived at last column\n",
    "train.info()"
   ]
  },
  {
   "cell_type": "markdown",
   "id": "279d8f0b",
   "metadata": {
    "papermill": {
     "duration": 0.007533,
     "end_time": "2022-06-19T15:47:58.107839",
     "exception": false,
     "start_time": "2022-06-19T15:47:58.100306",
     "status": "completed"
    },
    "tags": []
   },
   "source": [
    "### Instantiate FAMD class and visualize the FAMD components"
   ]
  },
  {
   "cell_type": "code",
   "execution_count": 5,
   "id": "f83f9970",
   "metadata": {
    "execution": {
     "iopub.execute_input": "2022-06-19T15:47:58.125688Z",
     "iopub.status.busy": "2022-06-19T15:47:58.125276Z",
     "iopub.status.idle": "2022-06-19T15:47:58.687631Z",
     "shell.execute_reply": "2022-06-19T15:47:58.686275Z"
    },
    "papermill": {
     "duration": 0.574076,
     "end_time": "2022-06-19T15:47:58.689828",
     "exception": false,
     "start_time": "2022-06-19T15:47:58.115752",
     "status": "completed"
    },
    "tags": []
   },
   "outputs": [
    {
     "name": "stdout",
     "output_type": "stream",
     "text": [
      "[0.24870529 0.20598812 0.17115264 0.14241702 0.09884178]\n"
     ]
    },
    {
     "data": {
      "image/png": "[encoded data removed]",
      "text/plain": [
       "<Figure size 432x432 with 1 Axes>"
      ]
     },
     "metadata": {
      "needs_background": "light"
     },
     "output_type": "display_data"
    }
   ],
   "source": [
    "famd = prince.FAMD(n_components = 5, n_iter = 5, random_state = 101);\n",
    "# get principal components\n",
    "X = train[train.columns[0:-1]]; # include everything except the survival column.\n",
    "famd = famd.fit(X);\n",
    "X_components = famd.U_;\n",
    "print(famd.explained_inertia_);\n",
    "famd.plot_row_coordinates(X = X);"
   ]
  },
  {
   "cell_type": "code",
   "execution_count": 6,
   "id": "530ac22e",
   "metadata": {
    "execution": {
     "iopub.execute_input": "2022-06-19T15:47:58.708493Z",
     "iopub.status.busy": "2022-06-19T15:47:58.708026Z",
     "iopub.status.idle": "2022-06-19T15:47:58.912811Z",
     "shell.execute_reply": "2022-06-19T15:47:58.911545Z"
    },
    "papermill": {
     "duration": 0.217364,
     "end_time": "2022-06-19T15:47:58.915585",
     "exception": false,
     "start_time": "2022-06-19T15:47:58.698221",
     "status": "completed"
    },
    "tags": []
   },
   "outputs": [
    {
     "data": {
      "text/plain": [
       "Text(0, 0.5, 'component2 17.11% variance')"
      ]
     },
     "execution_count": 6,
     "metadata": {},
     "output_type": "execute_result"
    },
    {
     "data": {
      "image/png": "[encoded data removed]",
      "text/plain": [
       "<Figure size 432x288 with 1 Axes>"
      ]
     },
     "metadata": {
      "needs_background": "light"
     },
     "output_type": "display_data"
    }
   ],
   "source": [
    "plt.scatter(X_components[:,1],X_components[:,2]);\n",
    "plt.xlabel('component1 20.6% variance') \n",
    "plt.ylabel('component2 17.11% variance') "
   ]
  },
  {
   "cell_type": "code",
   "execution_count": 7,
   "id": "9dafa1f7",
   "metadata": {
    "execution": {
     "iopub.execute_input": "2022-06-19T15:47:58.936720Z",
     "iopub.status.busy": "2022-06-19T15:47:58.936263Z",
     "iopub.status.idle": "2022-06-19T15:47:59.120684Z",
     "shell.execute_reply": "2022-06-19T15:47:59.119543Z"
    },
    "papermill": {
     "duration": 0.198733,
     "end_time": "2022-06-19T15:47:59.123522",
     "exception": false,
     "start_time": "2022-06-19T15:47:58.924789",
     "status": "completed"
    },
    "tags": []
   },
   "outputs": [
    {
     "data": {
      "text/plain": [
       "Text(0, 0.5, 'explained variance')"
      ]
     },
     "execution_count": 7,
     "metadata": {},
     "output_type": "execute_result"
    },
    {
     "data": {
      "image/png": "[encoded data removed]",
      "text/plain": [
       "<Figure size 432x288 with 1 Axes>"
      ]
     },
     "metadata": {
      "needs_background": "light"
     },
     "output_type": "display_data"
    }
   ],
   "source": [
    "plt.plot(np.cumsum(famd.explained_inertia_))\n",
    "plt.xticks(np.arange(5),np.arange(5)+1) \n",
    "plt.xlabel('FAMD principle component') \n",
    "plt.ylabel('explained variance') "
   ]
  },
  {
   "cell_type": "markdown",
   "id": "b3a7c275",
   "metadata": {
    "papermill": {
     "duration": 0.009461,
     "end_time": "2022-06-19T15:47:59.142485",
     "exception": false,
     "start_time": "2022-06-19T15:47:59.133024",
     "status": "completed"
    },
    "tags": []
   },
   "source": [
    "### Interpretation\n",
    "\n",
    "- Looks like first five components of FAMD capture 85% of variables.\n",
    "- Next we will run SVM predictions on FAMD components to test model accuracy."
   ]
  },
  {
   "cell_type": "markdown",
   "id": "e4815caa",
   "metadata": {
    "papermill": {
     "duration": 0.009088,
     "end_time": "2022-06-19T15:47:59.160998",
     "exception": false,
     "start_time": "2022-06-19T15:47:59.151910",
     "status": "completed"
    },
    "tags": []
   },
   "source": [
    "<div style=\"color:black;\n",
    "           display:fill;\n",
    "           border-radius:1px;\n",
    "           background-color:#FFA500;\n",
    "           align:center;\">\n",
    "\n",
    "<p style=\"padding: 1px;\n",
    "              color:white;\">\n",
    "<center>\n",
    "    \n",
    "# Support Vector Machine Classification"
   ]
  },
  {
   "cell_type": "markdown",
   "id": "78bb42ce",
   "metadata": {
    "papermill": {
     "duration": 0.009287,
     "end_time": "2022-06-19T15:47:59.179984",
     "exception": false,
     "start_time": "2022-06-19T15:47:59.170697",
     "status": "completed"
    },
    "tags": []
   },
   "source": [
    "### Theory\n",
    "\n",
    "Support vector machine (SVM) is a supervised machine learning classification technique that fits a line/plane/hyperplane between different classes.SVM learns decision boundary between classes from maximizing the distance from the boundary line to theeach points in the classes. The datapoints that lie along the border of different classes are called support vectors and by measuring the distance between data points to support vectors, classification decision is made.\n",
    "\n",
    "Different kernels can be used to compute the distance such as Polynomial kernel or Gaussian kernel (a.k.a radial basis function). Learning basis functions in SVM took me back to good old days of learning finite element analysis where different basis functions were used to solve differential equation. Anyway lets comeback to SVM.\n",
    "\n",
    "SVM requires all features to be on same scale. Hence our previous exercise of using Factor Analyze to reduce dimensionality might come handy now. Lets see how it performs!SVM is also known to be very sensitive to the tuning parameter namely the gamma parameter and the regularization (C-term).\n"
   ]
  },
  {
   "cell_type": "markdown",
   "id": "98b75637",
   "metadata": {
    "papermill": {
     "duration": 0.009247,
     "end_time": "2022-06-19T15:47:59.198999",
     "exception": false,
     "start_time": "2022-06-19T15:47:59.189752",
     "status": "completed"
    },
    "tags": []
   },
   "source": [
    "### Model Accuracy\n",
    "To test model accuracy, we will split the training data into subset of train and test.\n",
    "\n",
    "First we need to create a new dataframe where features are components from FAMD analysis done before!"
   ]
  },
  {
   "cell_type": "code",
   "execution_count": 8,
   "id": "a2c496b9",
   "metadata": {
    "execution": {
     "iopub.execute_input": "2022-06-19T15:47:59.220443Z",
     "iopub.status.busy": "2022-06-19T15:47:59.219970Z",
     "iopub.status.idle": "2022-06-19T15:47:59.236588Z",
     "shell.execute_reply": "2022-06-19T15:47:59.235249Z"
    },
    "papermill": {
     "duration": 0.030692,
     "end_time": "2022-06-19T15:47:59.239145",
     "exception": false,
     "start_time": "2022-06-19T15:47:59.208453",
     "status": "completed"
    },
    "tags": []
   },
   "outputs": [
    {
     "name": "stdout",
     "output_type": "stream",
     "text": [
      "<class 'pandas.core.frame.DataFrame'>\n",
      "RangeIndex: 891 entries, 0 to 890\n",
      "Data columns (total 6 columns):\n",
      " #   Column    Non-Null Count  Dtype  \n",
      "---  ------    --------------  -----  \n",
      " 0   famd1     891 non-null    float64\n",
      " 1   famd2     891 non-null    float64\n",
      " 2   famd3     891 non-null    float64\n",
      " 3   famd4     891 non-null    float64\n",
      " 4   famd5     891 non-null    float64\n",
      " 5   Survived  891 non-null    float64\n",
      "dtypes: float64(6)\n",
      "memory usage: 41.9 KB\n"
     ]
    }
   ],
   "source": [
    "survived = np.array(train['Survived']).reshape(891,1);\n",
    "df = np.concatenate([X_components,survived],axis=1);\n",
    "famd_train = pd.DataFrame(data = df,columns =['famd1','famd2','famd3','famd4','famd5','Survived']);\n",
    "famd_train.info()"
   ]
  },
  {
   "cell_type": "markdown",
   "id": "29d66711",
   "metadata": {
    "papermill": {
     "duration": 0.009505,
     "end_time": "2022-06-19T15:47:59.258297",
     "exception": false,
     "start_time": "2022-06-19T15:47:59.248792",
     "status": "completed"
    },
    "tags": []
   },
   "source": [
    "### train-test split of train data for model accuracy"
   ]
  },
  {
   "cell_type": "code",
   "execution_count": 9,
   "id": "0dcda038",
   "metadata": {
    "execution": {
     "iopub.execute_input": "2022-06-19T15:47:59.279540Z",
     "iopub.status.busy": "2022-06-19T15:47:59.279024Z",
     "iopub.status.idle": "2022-06-19T15:47:59.359674Z",
     "shell.execute_reply": "2022-06-19T15:47:59.358516Z"
    },
    "papermill": {
     "duration": 0.094234,
     "end_time": "2022-06-19T15:47:59.362652",
     "exception": false,
     "start_time": "2022-06-19T15:47:59.268418",
     "status": "completed"
    },
    "tags": []
   },
   "outputs": [
    {
     "data": {
      "text/plain": [
       "57     0.0\n",
       "717    1.0\n",
       "431    1.0\n",
       "633    0.0\n",
       "163    0.0\n",
       "Name: Survived, dtype: float64"
      ]
     },
     "execution_count": 9,
     "metadata": {},
     "output_type": "execute_result"
    }
   ],
   "source": [
    "from sklearn.model_selection import train_test_split\n",
    "\n",
    "# train test split\n",
    "X = famd_train.drop(columns = ['Survived'],axis=1);\n",
    "y = famd_train['Survived'];\n",
    "X_train_m, X_test_m, y_train_m, y_test_m = train_test_split(X,y, test_size=0.2, random_state=10);\n",
    "y_train_m.head()"
   ]
  },
  {
   "cell_type": "markdown",
   "id": "56d7e347",
   "metadata": {
    "papermill": {
     "duration": 0.009095,
     "end_time": "2022-06-19T15:47:59.382233",
     "exception": false,
     "start_time": "2022-06-19T15:47:59.373138",
     "status": "completed"
    },
    "tags": []
   },
   "source": [
    "### SVM model on FAMD components"
   ]
  },
  {
   "cell_type": "code",
   "execution_count": 10,
   "id": "6385c250",
   "metadata": {
    "execution": {
     "iopub.execute_input": "2022-06-19T15:47:59.403421Z",
     "iopub.status.busy": "2022-06-19T15:47:59.402514Z",
     "iopub.status.idle": "2022-06-19T15:47:59.582886Z",
     "shell.execute_reply": "2022-06-19T15:47:59.581840Z"
    },
    "papermill": {
     "duration": 0.19341,
     "end_time": "2022-06-19T15:47:59.585076",
     "exception": false,
     "start_time": "2022-06-19T15:47:59.391666",
     "status": "completed"
    },
    "tags": []
   },
   "outputs": [
    {
     "name": "stdout",
     "output_type": "stream",
     "text": [
      "ACCURACY OF THE MODEL:  0.8156424581005587\n"
     ]
    }
   ],
   "source": [
    "from sklearn.svm import SVC\n",
    "model = SVC(random_state=42, probability=True);\n",
    "model.fit(X_train_m, y_train_m);\n",
    "y_pred_m = model.predict(X_test_m);\n",
    "from sklearn import metrics \n",
    "print(\"ACCURACY OF THE MODEL: \", metrics.accuracy_score(y_test_m, y_pred_m));\n"
   ]
  },
  {
   "cell_type": "markdown",
   "id": "f41cde01",
   "metadata": {
    "papermill": {
     "duration": 0.009437,
     "end_time": "2022-06-19T15:47:59.603899",
     "exception": false,
     "start_time": "2022-06-19T15:47:59.594462",
     "status": "completed"
    },
    "tags": []
   },
   "source": [
    "#### Comments\n",
    "\n",
    "- So instead of using 8 original features, we used 5 FAMD components and yet achieved similar accuracy of 81%.\n",
    "- Now lets do the same on actual test data for competition submission."
   ]
  },
  {
   "cell_type": "markdown",
   "id": "926ccd5c",
   "metadata": {
    "papermill": {
     "duration": 0.009386,
     "end_time": "2022-06-19T15:47:59.623056",
     "exception": false,
     "start_time": "2022-06-19T15:47:59.613670",
     "status": "completed"
    },
    "tags": []
   },
   "source": []
  },
  {
   "cell_type": "markdown",
   "id": "682da316",
   "metadata": {
    "papermill": {
     "duration": 0.009353,
     "end_time": "2022-06-19T15:47:59.642055",
     "exception": false,
     "start_time": "2022-06-19T15:47:59.632702",
     "status": "completed"
    },
    "tags": []
   },
   "source": [
    "### Predicting on the test data for actual competition submission\n"
   ]
  },
  {
   "cell_type": "code",
   "execution_count": 11,
   "id": "1fe7321a",
   "metadata": {
    "execution": {
     "iopub.execute_input": "2022-06-19T15:47:59.664126Z",
     "iopub.status.busy": "2022-06-19T15:47:59.663629Z",
     "iopub.status.idle": "2022-06-19T15:47:59.764078Z",
     "shell.execute_reply": "2022-06-19T15:47:59.762915Z"
    },
    "papermill": {
     "duration": 0.115885,
     "end_time": "2022-06-19T15:47:59.768536",
     "exception": false,
     "start_time": "2022-06-19T15:47:59.652651",
     "status": "completed"
    },
    "tags": []
   },
   "outputs": [
    {
     "name": "stderr",
     "output_type": "stream",
     "text": [
      "/opt/conda/lib/python3.7/site-packages/sklearn/base.py:451: UserWarning: X does not have valid feature names, but SVC was fitted with feature names\n",
      "  \"X does not have valid feature names, but\"\n"
     ]
    }
   ],
   "source": [
    "famd = famd.fit(test);\n",
    "test_famd_components = famd.U_;\n",
    "y_submission = model.predict(test_famd_components);\n",
    "output = pd.DataFrame({'PassengerId': PID, 'Survived': y_submission})\n",
    "output.to_csv('submission.csv', index=False)"
   ]
  },
  {
   "cell_type": "markdown",
   "id": "e722037d",
   "metadata": {
    "papermill": {
     "duration": 0.017133,
     "end_time": "2022-06-19T15:47:59.803376",
     "exception": false,
     "start_time": "2022-06-19T15:47:59.786243",
     "status": "completed"
    },
    "tags": []
   },
   "source": [
    "### The FAMD predicted with a score of 74% on the competition forum which is quite good. We had only 5 features.\n",
    "\n",
    "- It would be nice to repeat this for having only 3 FAMD components. \n",
    "- Also converting the features into categorical values and then trying MCA analysis."
   ]
  }
 ],
 "metadata": {
  "kernelspec": {
   "display_name": "Python 3",
   "language": "python",
   "name": "python3"
  },
  "language_info": {
   "codemirror_mode": {
    "name": "ipython",
    "version": 3
   },
   "file_extension": ".py",
   "mimetype": "text/x-python",
   "name": "python",
   "nbconvert_exporter": "python",
   "pygments_lexer": "ipython3",
   "version": "3.7.12"
  },
  "papermill": {
   "default_parameters": {},
   "duration": 29.073893,
   "end_time": "2022-06-19T15:48:00.949205",
   "environment_variables": {},
   "exception": null,
   "input_path": "__notebook__.ipynb",
   "output_path": "__notebook__.ipynb",
   "parameters": {},
   "start_time": "2022-06-19T15:47:31.875312",
   "version": "2.3.4"
  }
 },
 "nbformat": 4,
 "nbformat_minor": 5
}
